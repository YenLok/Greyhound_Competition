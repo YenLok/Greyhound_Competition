{
 "cells": [
  {
   "cell_type": "code",
   "execution_count": 1,
   "metadata": {
    "collapsed": true,
    "pycharm": {
     "name": "#%%\n"
    }
   },
   "outputs": [],
   "source": [
    "import numpy as np\n",
    "import pandas as pd\n",
    "import feather\n",
    "import os, sys, random\n",
    "import matplotlib.pyplot as plt\n",
    "import warnings\n",
    "warnings.filterwarnings('ignore')\n",
    "pd.set_option('display.max_columns', None) # to ensure console display all columns\n",
    "pd.set_option('display.float_format', '{:0.3f}'.format)\n",
    "pd.set_option('display.max_row', 50)\n",
    "plt.style.use('ggplot')\n",
    "from pathlib import Path\n",
    "\n",
    "project = 'Greyhound_Competition'\n",
    "projectPath = Path(r'E:/Projects') / f\"{project}\"\n",
    "os.chdir(projectPath)\n",
    "sys.path.append(str(projectPath))\n",
    "\n",
    "dataPath = projectPath / 'data'\n",
    "pickleDataPath = dataPath / 'pickle'\n",
    "htmlDataPath = dataPath / 'html'\n",
    "imageDataPath = dataPath / 'image'\n",
    "dataInputPath = dataPath / 'input'\n",
    "dataWorkingPath = dataPath / 'working'\n",
    "dataOutputPath = dataPath / 'output'\n",
    "modelPath = projectPath / 'models'\n",
    "\n",
    "import pickle\n",
    "def save_obj(obj, name):\n",
    "    with open(pickleDataPath / f'{name}.pkl', 'wb') as f:\n",
    "        pickle.dump(obj, f, pickle.HIGHEST_PROTOCOL)\n",
    "\n",
    "def load_obj(name):\n",
    "    with open(pickleDataPath / f'{name}.pkl', 'rb') as f:\n",
    "        return pickle.load(f)"
   ]
  },
  {
   "cell_type": "markdown",
   "source": [
    "Imports"
   ],
   "metadata": {
    "collapsed": false,
    "pycharm": {
     "name": "#%% md\n"
    }
   }
  },
  {
   "cell_type": "code",
   "execution_count": 2,
   "outputs": [
    {
     "name": "stdout",
     "output_type": "stream",
     "text": [
      "2.9.1\n"
     ]
    }
   ],
   "source": [
    "import tensorflow as tf\n",
    "print(tf.__version__)\n",
    "\n",
    "from sklearn.preprocessing import StandardScaler\n",
    "from sklearn.model_selection import train_test_split\n",
    "\n",
    "from tensorflow.keras.layers import Input, Dense, Dropout, BatchNormalization, concatenate\n",
    "from tensorflow.keras import layers, optimizers, losses, metrics, Model\n",
    "from tensorflow.keras.callbacks import ReduceLROnPlateau, EarlyStopping\n",
    "\n",
    "def set_seed(seed):\n",
    "    tf.random.set_seed(seed)\n",
    "    os.environ['PYTHONHASHSEED'] = str(seed)\n",
    "    np.random.seed(seed)\n",
    "    random.seed(seed)"
   ],
   "metadata": {
    "collapsed": false,
    "pycharm": {
     "name": "#%%\n"
    }
   }
  },
  {
   "cell_type": "markdown",
   "source": [
    "Settings"
   ],
   "metadata": {
    "collapsed": false,
    "pycharm": {
     "name": "#%% md\n"
    }
   }
  },
  {
   "cell_type": "code",
   "execution_count": 3,
   "outputs": [],
   "source": [
    "col_feature = [str(x) for x in list(range(62))]\n",
    "N = len(col_feature)\n",
    "n_traps = 6\n",
    "input_file = f\"upwork_data2.csv\""
   ],
   "metadata": {
    "collapsed": false,
    "pycharm": {
     "name": "#%%\n"
    }
   }
  },
  {
   "cell_type": "markdown",
   "source": [
    "Compare baseline model versus optimized model over multiple seeds"
   ],
   "metadata": {
    "collapsed": false,
    "pycharm": {
     "name": "#%% md\n"
    }
   }
  },
  {
   "cell_type": "code",
   "execution_count": 4,
   "outputs": [
    {
     "name": "stdout",
     "output_type": "stream",
     "text": [
      "model_type: baseline, seed: 0\n",
      "model_type: baseline, seed: 1\n",
      "model_type: baseline, seed: 2\n",
      "model_type: baseline, seed: 3\n",
      "model_type: baseline, seed: 4\n",
      "model_type: baseline, seed: 5\n",
      "model_type: baseline, seed: 6\n",
      "model_type: baseline, seed: 7\n",
      "model_type: baseline, seed: 8\n",
      "model_type: baseline, seed: 9\n",
      "model_type: baseline, seed: 10\n",
      "model_type: baseline, seed: 11\n",
      "model_type: baseline, seed: 12\n",
      "model_type: baseline, seed: 13\n",
      "model_type: baseline, seed: 14\n",
      "model_type: baseline, seed: 15\n",
      "model_type: baseline, seed: 16\n",
      "model_type: baseline, seed: 17\n",
      "model_type: baseline, seed: 18\n",
      "model_type: baseline, seed: 19\n",
      "model_type: baseline, seed: 20\n",
      "model_type: baseline, seed: 21\n",
      "model_type: baseline, seed: 22\n",
      "model_type: baseline, seed: 23\n",
      "model_type: baseline, seed: 24\n",
      "model_type: baseline, seed: 25\n",
      "model_type: baseline, seed: 26\n",
      "model_type: baseline, seed: 27\n",
      "model_type: baseline, seed: 28\n",
      "model_type: baseline, seed: 29\n",
      "model_type: baseline, seed: 30\n",
      "model_type: baseline, seed: 31\n",
      "model_type: baseline, seed: 32\n",
      "model_type: baseline, seed: 33\n",
      "model_type: baseline, seed: 34\n",
      "model_type: baseline, seed: 35\n",
      "model_type: baseline, seed: 36\n",
      "model_type: baseline, seed: 37\n",
      "model_type: baseline, seed: 38\n",
      "model_type: baseline, seed: 39\n",
      "model_type: baseline, seed: 40\n",
      "model_type: baseline, seed: 41\n",
      "model_type: baseline, seed: 42\n",
      "model_type: baseline, seed: 43\n",
      "model_type: baseline, seed: 44\n",
      "model_type: baseline, seed: 45\n",
      "model_type: baseline, seed: 46\n",
      "model_type: baseline, seed: 47\n",
      "model_type: baseline, seed: 48\n",
      "model_type: baseline, seed: 49\n",
      "model_type: baseline, seed: 50\n",
      "model_type: baseline, seed: 51\n",
      "model_type: baseline, seed: 52\n",
      "model_type: baseline, seed: 53\n",
      "model_type: baseline, seed: 54\n",
      "model_type: baseline, seed: 55\n",
      "model_type: baseline, seed: 56\n",
      "model_type: baseline, seed: 57\n",
      "model_type: baseline, seed: 58\n",
      "model_type: baseline, seed: 59\n",
      "model_type: baseline, seed: 60\n",
      "model_type: baseline, seed: 61\n",
      "model_type: baseline, seed: 62\n",
      "model_type: baseline, seed: 63\n",
      "model_type: baseline, seed: 64\n",
      "model_type: baseline, seed: 65\n",
      "model_type: baseline, seed: 66\n",
      "model_type: baseline, seed: 67\n",
      "model_type: baseline, seed: 68\n",
      "model_type: baseline, seed: 69\n",
      "model_type: baseline, seed: 70\n",
      "model_type: baseline, seed: 71\n",
      "model_type: baseline, seed: 72\n",
      "model_type: baseline, seed: 73\n",
      "model_type: baseline, seed: 74\n",
      "model_type: baseline, seed: 75\n",
      "model_type: baseline, seed: 76\n",
      "model_type: baseline, seed: 77\n",
      "model_type: baseline, seed: 78\n",
      "model_type: baseline, seed: 79\n",
      "model_type: baseline, seed: 80\n",
      "model_type: baseline, seed: 81\n",
      "model_type: baseline, seed: 82\n",
      "model_type: baseline, seed: 83\n",
      "model_type: baseline, seed: 84\n",
      "model_type: baseline, seed: 85\n",
      "model_type: baseline, seed: 86\n",
      "model_type: baseline, seed: 87\n",
      "model_type: baseline, seed: 88\n",
      "model_type: baseline, seed: 89\n",
      "model_type: baseline, seed: 90\n",
      "model_type: baseline, seed: 91\n",
      "model_type: baseline, seed: 92\n",
      "model_type: baseline, seed: 93\n",
      "model_type: baseline, seed: 94\n",
      "model_type: baseline, seed: 95\n",
      "model_type: baseline, seed: 96\n",
      "model_type: baseline, seed: 97\n",
      "model_type: baseline, seed: 98\n",
      "model_type: baseline, seed: 99\n",
      "model_type: multi_input, seed: 0\n",
      "model_type: multi_input, seed: 1\n",
      "model_type: multi_input, seed: 2\n",
      "model_type: multi_input, seed: 3\n",
      "model_type: multi_input, seed: 4\n",
      "model_type: multi_input, seed: 5\n",
      "model_type: multi_input, seed: 6\n",
      "model_type: multi_input, seed: 7\n",
      "model_type: multi_input, seed: 8\n",
      "model_type: multi_input, seed: 9\n",
      "model_type: multi_input, seed: 10\n",
      "model_type: multi_input, seed: 11\n",
      "model_type: multi_input, seed: 12\n",
      "model_type: multi_input, seed: 13\n",
      "model_type: multi_input, seed: 14\n",
      "model_type: multi_input, seed: 15\n",
      "model_type: multi_input, seed: 16\n",
      "model_type: multi_input, seed: 17\n",
      "model_type: multi_input, seed: 18\n",
      "model_type: multi_input, seed: 19\n",
      "model_type: multi_input, seed: 20\n",
      "model_type: multi_input, seed: 21\n",
      "model_type: multi_input, seed: 22\n",
      "model_type: multi_input, seed: 23\n",
      "model_type: multi_input, seed: 24\n",
      "model_type: multi_input, seed: 25\n",
      "model_type: multi_input, seed: 26\n",
      "model_type: multi_input, seed: 27\n",
      "model_type: multi_input, seed: 28\n",
      "model_type: multi_input, seed: 29\n",
      "model_type: multi_input, seed: 30\n",
      "model_type: multi_input, seed: 31\n",
      "model_type: multi_input, seed: 32\n",
      "model_type: multi_input, seed: 33\n",
      "model_type: multi_input, seed: 34\n",
      "model_type: multi_input, seed: 35\n",
      "model_type: multi_input, seed: 36\n",
      "model_type: multi_input, seed: 37\n",
      "model_type: multi_input, seed: 38\n",
      "model_type: multi_input, seed: 39\n",
      "model_type: multi_input, seed: 40\n",
      "model_type: multi_input, seed: 41\n",
      "model_type: multi_input, seed: 42\n",
      "model_type: multi_input, seed: 43\n",
      "model_type: multi_input, seed: 44\n",
      "model_type: multi_input, seed: 45\n",
      "model_type: multi_input, seed: 46\n",
      "model_type: multi_input, seed: 47\n",
      "model_type: multi_input, seed: 48\n",
      "model_type: multi_input, seed: 49\n",
      "model_type: multi_input, seed: 50\n",
      "model_type: multi_input, seed: 51\n",
      "model_type: multi_input, seed: 52\n",
      "model_type: multi_input, seed: 53\n",
      "model_type: multi_input, seed: 54\n",
      "model_type: multi_input, seed: 55\n",
      "model_type: multi_input, seed: 56\n",
      "model_type: multi_input, seed: 57\n",
      "model_type: multi_input, seed: 58\n",
      "model_type: multi_input, seed: 59\n",
      "model_type: multi_input, seed: 60\n",
      "model_type: multi_input, seed: 61\n",
      "model_type: multi_input, seed: 62\n",
      "model_type: multi_input, seed: 63\n",
      "model_type: multi_input, seed: 64\n",
      "model_type: multi_input, seed: 65\n",
      "model_type: multi_input, seed: 66\n",
      "model_type: multi_input, seed: 67\n",
      "model_type: multi_input, seed: 68\n",
      "model_type: multi_input, seed: 69\n",
      "model_type: multi_input, seed: 70\n",
      "model_type: multi_input, seed: 71\n",
      "model_type: multi_input, seed: 72\n",
      "model_type: multi_input, seed: 73\n",
      "model_type: multi_input, seed: 74\n",
      "model_type: multi_input, seed: 75\n",
      "model_type: multi_input, seed: 76\n",
      "model_type: multi_input, seed: 77\n",
      "model_type: multi_input, seed: 78\n",
      "model_type: multi_input, seed: 79\n",
      "model_type: multi_input, seed: 80\n",
      "model_type: multi_input, seed: 81\n",
      "model_type: multi_input, seed: 82\n",
      "model_type: multi_input, seed: 83\n",
      "model_type: multi_input, seed: 84\n",
      "model_type: multi_input, seed: 85\n",
      "model_type: multi_input, seed: 86\n",
      "model_type: multi_input, seed: 87\n",
      "model_type: multi_input, seed: 88\n",
      "model_type: multi_input, seed: 89\n",
      "model_type: multi_input, seed: 90\n",
      "model_type: multi_input, seed: 91\n",
      "model_type: multi_input, seed: 92\n",
      "model_type: multi_input, seed: 93\n",
      "model_type: multi_input, seed: 94\n",
      "model_type: multi_input, seed: 95\n",
      "model_type: multi_input, seed: 96\n",
      "model_type: multi_input, seed: 97\n",
      "model_type: multi_input, seed: 98\n",
      "model_type: multi_input, seed: 99\n"
     ]
    }
   ],
   "source": [
    "df = pd.read_csv(dataInputPath / input_file)\n",
    "df = df[df.trap <= 6]\n",
    "\n",
    "def group_horse_and_result(element):\n",
    "    if element[0] == 'finish':\n",
    "        return 100 + element[1] # to make sure finish resuls are put near the end\n",
    "    else:\n",
    "        return element[1]\n",
    "\n",
    "df = df.pivot(index = 'race_id', columns = 'trap', values = df.columns[2:])\n",
    "rearranged_columns = sorted(list(df.columns.values), key = group_horse_and_result)\n",
    "df = df[rearranged_columns]\n",
    "df.dropna(inplace = True)\n",
    "X = df[df.columns[:-6]]\n",
    "scaler = StandardScaler()\n",
    "X = pd.DataFrame(scaler.fit_transform(X),columns = X.columns)\n",
    "y_won = df[df.columns[-6:]].applymap(lambda x: 1 if x == 1 else 0)\n",
    "X_train, X_test, y_train, y_test = train_test_split(X, y_won, train_size=0.8, test_size=0.2, random_state=1)\n",
    "train_id_list = list(y_train.index)\n",
    "test_id_list = list(y_test.index)\n",
    "train_df = df.loc[train_id_list]\n",
    "test_df = df.loc[test_id_list]\n",
    "\n",
    "multi_input_accuracy = []\n",
    "multi_input_precision = []\n",
    "baseline_accuracy = []\n",
    "baseline_precision = []\n",
    "for model_type in ['baseline','multi_input']:\n",
    "    for i in range(100):\n",
    "        print(f\"model_type: {model_type}, seed: {i}\")\n",
    "        set_seed(i)\n",
    "\n",
    "        if model_type == 'baseline':\n",
    "            input = Input(shape=(X_train.shape[1], ))\n",
    "            m = Dense(128, activation='relu')(input)\n",
    "            m = Dropout(0.5)(m)\n",
    "            m = Dense(n_traps, activation=\"softmax\")(m)\n",
    "            model = Model(inputs=input, outputs=m)\n",
    "\n",
    "            model.compile(\n",
    "                optimizer=tf.keras.optimizers.Adam(lr=0.005),\n",
    "                loss=tf.keras.losses.CategoricalCrossentropy(),\n",
    "                metrics=['acc', tf.keras.metrics.Precision(name='precision')],\n",
    "            )\n",
    "\n",
    "            callback = tf.keras.callbacks.EarlyStopping(patience = 10, restore_best_weights = True)\n",
    "\n",
    "            dataset = tf.data.Dataset.from_tensor_slices((X_train.values, y_train.values))\n",
    "            train_dataset = dataset.shuffle(len(X_train)).batch(500)\n",
    "            dataset = tf.data.Dataset.from_tensor_slices((X_test.values, y_test.values))\n",
    "            validation_dataset = dataset.shuffle(len(X_test)).batch(500)\n",
    "            history = model.fit(train_dataset, epochs=200, validation_data=validation_dataset, callbacks=[callback], verbose=0)\n",
    "            test_loss, test_acc, test_precision = model.evaluate(X_test.values, y_test.values, batch_size=512, verbose=0)\n",
    "            baseline_accuracy += [test_acc]\n",
    "            baseline_precision += [test_precision]\n",
    "\n",
    "        if model_type == 'multi_input':\n",
    "            act = 'relu'\n",
    "\n",
    "            def get_MLP_input_layer(N, act):\n",
    "                input = Input(shape=(N,))\n",
    "\n",
    "                x = Dense(32, activation=act)(input)\n",
    "                x = Dropout(0.2)(x)\n",
    "\n",
    "                x = Dense(32, activation=act)(x)\n",
    "                x = Dropout(0.2)(x)\n",
    "\n",
    "                x = Dense(16, activation=act)(x)\n",
    "                #x = Dropout(0.2)(x)\n",
    "\n",
    "                x = Model(inputs=input, outputs=x)\n",
    "\n",
    "                return x\n",
    "\n",
    "            concat_list = []\n",
    "            for i in range(n_traps):\n",
    "                concat_list += [get_MLP_input_layer(N, act)]\n",
    "\n",
    "            combined = concatenate([x.output for x in concat_list])\n",
    "\n",
    "            m = Dense(32, activation=act)(combined)\n",
    "            #m = BatchNormalization()(m)\n",
    "\n",
    "            m = Dense(32, activation=act)(m)\n",
    "            m = BatchNormalization()(m)\n",
    "\n",
    "            m = Dense(n_traps, activation=\"softmax\")(m)\n",
    "            model = Model(inputs=[x.input for x in concat_list], outputs=m)\n",
    "\n",
    "            model.compile(\n",
    "                optimizer=tf.keras.optimizers.Adam(lr=0.005),\n",
    "                loss=tf.keras.losses.CategoricalCrossentropy(),\n",
    "                metrics=['acc', tf.keras.metrics.Precision(name='precision')],\n",
    "            )\n",
    "\n",
    "            early_stop = EarlyStopping(monitor='val_acc', min_delta=0,\n",
    "                                       patience=50, verbose=0, mode='auto',\n",
    "                                       baseline=0, restore_best_weights=True)\n",
    "\n",
    "            history = model.fit([train_df.xs(i, level=\"trap\", axis=1)[col_feature].values for i in range(1, n_traps+1)],\n",
    "                                y_won.loc[train_id_list].values,\n",
    "                                epochs=1000,\n",
    "                                batch_size=1028,\n",
    "                                validation_data=([test_df.xs(i, level=\"trap\", axis=1)[col_feature].values for i in range(1, n_traps+1)],\n",
    "                                                 y_won.loc[test_id_list].values),\n",
    "                                shuffle=True, verbose=0,\n",
    "                                callbacks=[early_stop])\n",
    "\n",
    "            test_loss, test_acc, test_precision = model.evaluate([test_df.xs(i, level=\"trap\", axis=1)[col_feature].values for i in range(1, n_traps+1)],\n",
    "                                                                 y_won.loc[test_id_list].values,\n",
    "                                                                 batch_size=1028,\n",
    "                                                                 verbose=0)\n",
    "\n",
    "            multi_input_accuracy += [test_acc]\n",
    "            multi_input_precision += [test_precision]\n"
   ],
   "metadata": {
    "collapsed": false,
    "pycharm": {
     "name": "#%%\n"
    }
   }
  },
  {
   "cell_type": "code",
   "execution_count": 5,
   "outputs": [
    {
     "data": {
      "text/plain": "<Figure size 576x432 with 1 Axes>",
      "image/png": "[encoded data removed]"
     },
     "metadata": {
      "needs_background": "light"
     },
     "output_type": "display_data"
    }
   ],
   "source": [
    "plt.figure(figsize=(8,6))\n",
    "plt.hist(baseline_accuracy, bins=100, alpha=0.5, label=\"baseline\")\n",
    "plt.hist(multi_input_accuracy, bins=100, alpha=0.5, label=\"multi_input\")\n",
    "plt.xlabel(\"Data\", size=14)\n",
    "plt.ylabel(\"Count\", size=14)\n",
    "plt.title(\"Accuracy of baseline versus multi_input model\")\n",
    "plt.legend(loc='upper right')\n",
    "plt.show()"
   ],
   "metadata": {
    "collapsed": false,
    "pycharm": {
     "name": "#%%\n"
    }
   }
  },
  {
   "cell_type": "code",
   "execution_count": 6,
   "outputs": [
    {
     "data": {
      "text/plain": "<Figure size 576x432 with 1 Axes>",
      "image/png": "[encoded data removed]"
     },
     "metadata": {
      "needs_background": "light"
     },
     "output_type": "display_data"
    }
   ],
   "source": [
    "plt.figure(figsize=(8,6))\n",
    "plt.hist(baseline_precision, bins=100, alpha=0.5, label=\"baseline\")\n",
    "plt.hist(multi_input_precision, bins=100, alpha=0.5, label=\"multi_input\")\n",
    "plt.xlabel(\"Data\", size=14)\n",
    "plt.ylabel(\"Count\", size=14)\n",
    "plt.title(\"Precision of baseline versus multi_input model\")\n",
    "plt.legend(loc='upper right')\n",
    "plt.show()"
   ],
   "metadata": {
    "collapsed": false,
    "pycharm": {
     "name": "#%%\n"
    }
   }
  }
 ],
 "metadata": {
  "kernelspec": {
   "display_name": "Python 3",
   "language": "python",
   "name": "python3"
  },
  "language_info": {
   "codemirror_mode": {
    "name": "ipython",
    "version": 2
   },
   "file_extension": ".py",
   "mimetype": "text/x-python",
   "name": "python",
   "nbconvert_exporter": "python",
   "pygments_lexer": "ipython2",
   "version": "2.7.6"
  }
 },
 "nbformat": 4,
 "nbformat_minor": 0
}